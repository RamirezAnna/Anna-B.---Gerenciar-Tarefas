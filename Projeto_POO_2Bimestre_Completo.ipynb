{
 "cells": [
  {
   "cell_type": "markdown",
   "id": "fcbe0b0b",
   "metadata": {},
   "source": [
    "# 📘 Projeto de Programação Orientada a Objetos – 2º Bimestre\n",
    "\n",
    "**Nome do Aluno:**                      \n",
    "\n",
    "**Turma:**\n",
    "\n",
    "**Tema Escolhido:**"
   ]
  },
  {
   "cell_type": "markdown",
   "id": "47e697ce",
   "metadata": {},
   "source": [
    "Lembre-se esse projeto deve ser personalizado, todas as classe e metodos devem ter uma referencia ao seu nome, exemplo:\n",
    "\n",
    "class Carro_Fabio:\n",
    "\n",
    "    def __init__(self, tipo, cor, rodas):\n",
    "        self.tipo = tipo\n",
    "        self.cor = cor\n",
    "        self.rodas = rodas\n",
    "        \n",
    "    def alterar_cor_Fabio(self, nova_cor):\n",
    "        self.cor = nova_cor\n",
    "        return self.cor\n",
    "    "
   ]
  },
  {
   "cell_type": "markdown",
   "id": "bf0b9458",
   "metadata": {},
   "source": [
    "## PARTE 1 – Classe Principal e Objetos\n",
    "\n",
    "**Tarefas:**\n",
    "- Definir e criar a classe principal com pelo menos 3 atributos.\n",
    "- Implementar o método construtor (`__init__`).\n",
    "- Criar pelo menos 2 objetos da classe principal.\n",
    "- Implementar um método de exibição de dados.\n",
    "\n",
    "**Código:**"
   ]
  },
  {
   "cell_type": "code",
   "execution_count": null,
   "id": "5721fa89",
   "metadata": {},
   "outputs": [],
   "source": [
    "class PlannEDU:\n",
    "    def __init__(self, disciplina, tarefa, datafinal):\n",
    "        self.disciplina = disciplina\n",
    "        self.tarefa = tarefa\n",
    "        self.datafinal = datafinal\n",
    "\n",
    "    def exibir_detalhes(self):\n",
    "        print(f\"Disciplina: {self.disciplina}\")\n",
    "        print(f\"Tarefa: {self.tarefa}\")\n",
    "        print(f\"Data de Entrega: {self.datafinal}\")\n",
    "        print(\"-\" * 30)\n",
    "\n",
    "tarefa1 = PlannEDU(\"Física\", \"Praticar termodinâmica\", \"Pendente\")\n",
    "tarefa2 = PlannEDU(\"POO\", \"Enviar ao professor\", \"Em andamento\")\n",
    "\n",
    "tarefa1.exibir_detalhes()\n",
    "tarefa2.exibir_detalhes()\n"
   ]
  },
  {
   "cell_type": "markdown",
   "id": "f2cf3375",
   "metadata": {},
   "source": [
    "## PARTE 2 – Métodos e Herança\n",
    "\n",
    "**Tarefas:**\n",
    "- Criar pelo menos 2 métodos de ação para a classe principal.\n",
    "- Criar uma subclasse herdando da classe principal.\n",
    "- Adicionar pelo menos 1 novo atributo e 1 novo método exclusivo na subclasse.\n",
    "- Utilizar `super()` no construtor da subclasse.\n",
    "\n",
    "**Código:**"
   ]
  },
  {
   "cell_type": "code",
   "execution_count": null,
   "id": "5f456eb1",
   "metadata": {},
   "outputs": [],
   "source": [
    "# Subclasse herdando de PlannEDU\n",
    "class TarefaPrioritaria(PlannEDU):\n",
    "    def __init__(self, disciplina, tarefa, datafinal, prioridade):\n",
    "        # Chama o construtor da classe mãe\n",
    "        super().__init__(disciplina, tarefa, datafinal)\n",
    "        # Novo atributo exclusivo da subclasse\n",
    "        self.prioridade = prioridade\n",
    "\n",
    "    # Novo método exclusivo da subclasse\n",
    "    def exibir_prioridade(self):\n",
    "        print(f\"Prioridade da Tarefa: {self.prioridade}\")\n",
    "        print(\"-\" * 30)\n",
    "\n",
    "# Testando a classe principal\n",
    "tarefa1 = PlannEDU(\"Física\", \"Praticar termodinâmica\", \"2025-05-10\")\n",
    "tarefa1.exibir_detalhes()\n",
    "tarefa1.editar_tarefa(\"Fazer resumo de termodinâmica\")\n",
    "tarefa1.alterar_data(\"2025-05-12\")\n",
    "tarefa1.exibir_detalhes()\n",
    "\n",
    "# Testando a subclasse\n",
    "tarefa_prioritaria = TarefaPrioritaria(\"POO\", \"Entregar projeto final\", \"2025-06-01\", \"Alta\")\n",
    "tarefa_prioritaria.exibir_detalhes()\n",
    "tarefa_prioritaria.exibir_prioridade()"
   ]
  },
  {
   "cell_type": "markdown",
   "id": "3e0a77b0",
   "metadata": {},
   "source": [
    "## PARTE 3 – Encapsulamento e Abstração\n",
    "\n",
    "**Tarefas:**\n",
    "- Tornar pelo menos 1 atributo da classe principal privado (`__atributo`).\n",
    "- Criar métodos `get` e `set` para o atributo privado.\n",
    "- Implementar um método que contenha lógica interna (ex: cálculo, verificação).\n",
    "\n",
    "**Código:**"
   ]
  },
  {
   "cell_type": "code",
   "execution_count": null,
   "id": "0bdb445e",
   "metadata": {},
   "outputs": [],
   "source": [
    "# Testando a classe principal\n",
    "tarefa1 = PlannEDU(\"Física\", \"Praticar termodinâmica\", \"2025-05-10\")\n",
    "tarefa1.exibir_detalhes()\n",
    "\n",
    "# Testando GET e SET\n",
    "print(\"Disciplina atual:\", tarefa1.get_disciplina())\n",
    "tarefa1.set_disciplina(\"Matemática\")\n",
    "print(\"Disciplina alterada:\", tarefa1.get_disciplina())\n",
    "tarefa1.exibir_detalhes()\n",
    "\n",
    "# Testando método de lógica interna\n",
    "tarefa1.verificar_atraso(\"2025-05-11\")  # Está atrasada?\n",
    "tarefa1.verificar_atraso(\"2025-05-09\")  # Está dentro do prazo\n",
    "\n",
    "# Testando a subclasse\n",
    "tarefa_prioritaria = TarefaPrioritaria(\"POO\", \"Entregar projeto final\", \"2025-06-01\", \"Alta\")\n",
    "tarefa_prioritaria.exibir_detalhes()\n",
    "tarefa_prioritaria.exibir_prioridade()"
   ]
  },
  {
   "cell_type": "markdown",
   "id": "fb9df3e9",
   "metadata": {},
   "source": [
    "## PARTE 4 – Polimorfismo e Banco de Dados\n",
    "\n",
    "**Tarefas:**\n",
    "- Implementar polimorfismo: sobrescrever um método na subclasse.\n",
    "- Integrar o sistema com banco de dados (MySQL ou SQLite).\n",
    "- Implementar inserção (INSERT), consulta (SELECT) e exclusão (DELETE) de registros no banco de dados.\n",
    "\n",
    "**Código:**"
   ]
  },
  {
   "cell_type": "code",
   "execution_count": 4,
   "id": "56a4c46a",
   "metadata": {},
   "outputs": [],
   "source": [
    "# Desenvolva aqui o código da Parte 4"
   ]
  },
  {
   "cell_type": "markdown",
   "id": "d8bbf974",
   "metadata": {},
   "source": [
    "## PARTE 5 – Projeto Final e Organização\n",
    "\n",
    "**Tarefas:**\n",
    "- Consolidar todas as partes do projeto em um único script organizado.\n",
    "- Comentar o código explicando cada parte.\n",
    "- Testar todas as funcionalidades.\n",
    "\n",
    "**Código:**"
   ]
  },
  {
   "cell_type": "code",
   "execution_count": null,
   "id": "54b3cdd7",
   "metadata": {},
   "outputs": [],
   "source": [
    "# Desenvolva aqui o código da Parte 5"
   ]
  }
 ],
 "metadata": {
  "kernelspec": {
   "display_name": "Python 3 (ipykernel)",
   "language": "python",
   "name": "python3"
  },
  "language_info": {
   "codemirror_mode": {
    "name": "ipython",
    "version": 3
   },
   "file_extension": ".py",
   "mimetype": "text/x-python",
   "name": "python",
   "nbconvert_exporter": "python",
   "pygments_lexer": "ipython3",
   "version": "3.9.13"
  }
 },
 "nbformat": 4,
 "nbformat_minor": 5
}
